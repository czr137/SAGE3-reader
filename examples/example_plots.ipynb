{
 "cells": [
  {
   "cell_type": "code",
   "execution_count": null,
   "metadata": {},
   "outputs": [],
   "source": [
    "%matplotlib inline\n",
    "import numpy as np\n",
    "import xarray as xr\n",
    "from sage3reader import sage3reader\n",
    "\n",
    "FIG_SIZE = (15, 6)"
   ]
  },
  {
   "cell_type": "markdown",
   "metadata": {},
   "source": [
    "# Read in the data and index by start_time rather than profile_id"
   ]
  },
  {
   "cell_type": "code",
   "execution_count": null,
   "metadata": {},
   "outputs": [],
   "source": [
    "s3data = sage3reader.multi_path_l2binary_to_dataset('/path/to/data').swap_dims({'event_id': 'start_time'}, inplace=True).sortby('start_time')"
   ]
  },
  {
   "cell_type": "markdown",
   "metadata": {},
   "source": [
    "# (or open a pre-computed file of the same data)"
   ]
  },
  {
   "cell_type": "code",
   "execution_count": null,
   "metadata": {},
   "outputs": [],
   "source": [
    "s3data = xr.open_dataset('/path/to/data.nc').swap_dims({'event_id': 'start_time'}, inplace=True).sortby('start_time')"
   ]
  },
  {
   "cell_type": "markdown",
   "metadata": {},
   "source": [
    "# Plot a time-series of the *QA<2* ozone data"
   ]
  },
  {
   "cell_type": "code",
   "execution_count": null,
   "metadata": {},
   "outputs": [],
   "source": [
    "s3data.o3.sel(altitude=slice(10, 55)).where((s3data.o3_qa_flags < 2 )).plot(x='start_time', y='altitude', figsize=FIG_SIZE, robust=True)"
   ]
  },
  {
   "cell_type": "markdown",
   "metadata": {},
   "source": [
    "# Monthly mean time-series of the ozone over the tropics"
   ]
  },
  {
   "cell_type": "code",
   "execution_count": null,
   "metadata": {},
   "outputs": [],
   "source": [
    "s3data.o3.sel(altitude=slice(10, 55)).where((s3data.o3_qa_flags < 2) & (s3data.start_latitude < 30) & (s3data.start_latitude > -30)).resample('W', dim='start_time').plot(x='start_time', y='altitude', figsize=FIG_SIZE, robust=True)"
   ]
  },
  {
   "cell_type": "markdown",
   "metadata": {},
   "source": [
    "# Zonal mean, std and count of 2017-09 ozone"
   ]
  },
  {
   "cell_type": "code",
   "execution_count": null,
   "metadata": {},
   "outputs": [],
   "source": [
    "samplemonth = s3data.o3.sel(altitude=slice(10, 55), start_time=slice('20170901', '20171001')).where(s3data.o3_qa_flags < 2)\n",
    "\n",
    "lat_bins = range(-80, 85, 5)\n",
    "labels = [lat + 2.5 for lat in lat_bins[:-1]]\n",
    "binned = samplemonth.groupby_bins('start_latitude', lat_bins, labels=labels).mean(dim='start_time').sortby('start_latitude_bins')\n",
    "binned.plot(x='start_latitude_bins', y='altitude', robust=True, figsize=FIG_SIZE)"
   ]
  },
  {
   "cell_type": "code",
   "execution_count": null,
   "metadata": {},
   "outputs": [],
   "source": [
    "binned = samplemonth.groupby_bins('start_latitude', lat_bins, labels=labels).std(dim='start_time').sortby('start_latitude_bins')\n",
    "binned.plot(x='start_latitude_bins', y='altitude', robust=True, figsize=FIG_SIZE)"
   ]
  },
  {
   "cell_type": "code",
   "execution_count": null,
   "metadata": {},
   "outputs": [],
   "source": [
    "binned = samplemonth.groupby_bins('start_latitude', lat_bins, labels=labels).count(dim='start_time').sortby('start_latitude_bins')\n",
    "binned.plot(x='start_latitude_bins', y='altitude', robust=True, figsize=FIG_SIZE)"
   ]
  }
 ],
 "metadata": {
  "kernelspec": {
   "display_name": "Python 3",
   "language": "python",
   "name": "python3"
  },
  "language_info": {
   "codemirror_mode": {
    "name": "ipython",
    "version": 3
   },
   "file_extension": ".py",
   "mimetype": "text/x-python",
   "name": "python",
   "nbconvert_exporter": "python",
   "pygments_lexer": "ipython3",
   "version": "3.6.3"
  }
 },
 "nbformat": 4,
 "nbformat_minor": 1
}
