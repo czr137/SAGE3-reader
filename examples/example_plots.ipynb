{
 "cells": [
  {
   "cell_type": "code",
   "execution_count": null,
   "metadata": {},
   "outputs": [],
   "source": [
    "%matplotlib inline\n",
    "import numpy as np\n",
    "import xarray as xr\n",
    "from sage3reader import multi_path_l2binary_to_dataset\n",
    "\n",
    "FIG_SIZE = (15, 6)"
   ]
  },
  {
   "cell_type": "markdown",
   "metadata": {},
   "source": [
    "# Read the data in from the binary files"
   ]
  },
  {
   "cell_type": "code",
   "execution_count": null,
   "metadata": {},
   "outputs": [],
   "source": [
    "s3data = multi_path_l2binary_to_dataset('/path/to/data/').swap_dims({'event_id': 'time'}).sortby('time')"
   ]
  },
  {
   "cell_type": "markdown",
   "metadata": {},
   "source": [
    "# Plot a time-series of the *QA<2* ozone data"
   ]
  },
  {
   "cell_type": "code",
   "execution_count": null,
   "metadata": {},
   "outputs": [],
   "source": [
    "s3data.o3.sel(altitude=slice(10, 55)).where((s3data.o3_qa_flags < 2 )).plot(x='time', y='altitude', figsize=FIG_SIZE, robust=True)"
   ]
  },
  {
   "cell_type": "markdown",
   "metadata": {},
   "source": [
    "# Monthly mean time-series of the ozone over the tropics"
   ]
  },
  {
   "cell_type": "code",
   "execution_count": null,
   "metadata": {},
   "outputs": [],
   "source": [
    "s3data.o3.sel(altitude=slice(10, 55)).where((s3data.o3_qa_flags < 2) & (s3data.latitude < 30) & (s3data.latitude > -30)).resample(time='W').mean(dim='time').plot(x='time', y='altitude', figsize=FIG_SIZE, robust=True)"
   ]
  },
  {
   "cell_type": "markdown",
   "metadata": {},
   "source": [
    "# Zonal mean, std and count of 2017-09 ozone"
   ]
  },
  {
   "cell_type": "code",
   "execution_count": null,
   "metadata": {},
   "outputs": [],
   "source": [
    "samplemonth = s3data.o3.sel(altitude=slice(10, 55), time=slice('20170901', '20171001')).where(s3data.o3_qa_flags < 2)\n",
    "\n",
    "lat_bins = range(-80, 85, 5)\n",
    "labels = [lat + 2.5 for lat in lat_bins[:-1]]\n",
    "binned = samplemonth.groupby_bins('latitude', lat_bins, labels=labels).mean(dim='time').sortby('latitude_bins')\n",
    "binned.plot(x='latitude_bins', y='altitude', robust=True, figsize=FIG_SIZE)"
   ]
  },
  {
   "cell_type": "code",
   "execution_count": null,
   "metadata": {},
   "outputs": [],
   "source": [
    "binned = samplemonth.groupby_bins('latitude', lat_bins, labels=labels).std(dim='time').sortby('latitude_bins')\n",
    "binned.plot(x='latitude_bins', y='altitude', robust=True, figsize=FIG_SIZE)"
   ]
  },
  {
   "cell_type": "code",
   "execution_count": null,
   "metadata": {},
   "outputs": [],
   "source": [
    "binned = samplemonth.groupby_bins('latitude', lat_bins, labels=labels).count(dim='time').sortby('latitude_bins')\n",
    "binned.plot(x='latitude_bins', y='altitude', robust=True, figsize=FIG_SIZE)"
   ]
  }
 ],
 "metadata": {
  "kernelspec": {
   "display_name": "Python 3",
   "language": "python",
   "name": "python3"
  },
  "language_info": {
   "codemirror_mode": {
    "name": "ipython",
    "version": 3
   },
   "file_extension": ".py",
   "mimetype": "text/x-python",
   "name": "python",
   "nbconvert_exporter": "python",
   "pygments_lexer": "ipython3",
   "version": "3.7.0"
  }
 },
 "nbformat": 4,
 "nbformat_minor": 2
}
